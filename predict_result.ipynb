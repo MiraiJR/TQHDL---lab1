{
 "cells": [
  {
   "attachments": {},
   "cell_type": "markdown",
   "metadata": {},
   "source": [
    "## Đặt vấn đề: Sử dụng phương pháp học máy đưa ra dự đoán kết quả dựa vào các chỉ số của đội sau trận đấu (Thắng/Hòa/Thua)\n",
    "\n",
    "Mô hình: \n",
    "\n",
    "- Logistics Regression.\n",
    "\n",
    "Trích chọn đặc trưng: \n",
    "\n",
    "- Dựa vào biểu đồ heatmap đầu tiên, với 2 chỉ số bất kì có độ tương quan cao, ở đây nhóm đưa ra tiêu chuẩn |correlation| >= 0.6 thì sẽ loại bỏ bớt đi 1 trong 2 chỉ số.\n",
    "- Như vậy các chỉ số được loại bỏ đi sau quá trình quan sát biểu đồ được trực quan: 'xg', 'xga', 'sh', 'sot', 'pk'.\n",
    "\n",
    "Tiền xử lý dữ liệu:\n",
    "\n",
    "- Loại bỏ các mẫu có giá trị thuộc tính không xác định.  \n",
    "\n",
    "Tập train, test\n",
    "- Train: Các trận đấu của mùa giải 2020, 2021, 2022.\n",
    "- Test: Các trận đấu của mùa giải 2023."
   ]
  },
  {
   "cell_type": "code",
   "execution_count": 43,
   "metadata": {},
   "outputs": [],
   "source": [
    "import pandas as pd\n",
    "from sklearn.model_selection import train_test_split\n",
    "from sklearn.metrics import accuracy_score, classification_report, confusion_matrix\n",
    "from sklearn.linear_model import LogisticRegression"
   ]
  },
  {
   "cell_type": "code",
   "execution_count": 53,
   "metadata": {},
   "outputs": [
    {
     "name": "stderr",
     "output_type": "stream",
     "text": [
      "c:\\Python311\\Lib\\site-packages\\sklearn\\linear_model\\_logistic.py:458: ConvergenceWarning: lbfgs failed to converge (status=1):\n",
      "STOP: TOTAL NO. of ITERATIONS REACHED LIMIT.\n",
      "\n",
      "Increase the number of iterations (max_iter) or scale the data as shown in:\n",
      "    https://scikit-learn.org/stable/modules/preprocessing.html\n",
      "Please also refer to the documentation for alternative solver options:\n",
      "    https://scikit-learn.org/stable/modules/linear_model.html#logistic-regression\n",
      "  n_iter_i = _check_optimize_result(\n"
     ]
    }
   ],
   "source": [
    "df = pd.read_csv(\"matches.csv\")\n",
    "df = df.loc[:, ['season','gf', 'ga', 'poss', 'attendance', 'dist', 'fk', 'pkatt','result']]\n",
    "df = df.dropna()\n",
    "\n",
    "# #df.loc[df['result'] != 'W', 'result'] = 'N'\n",
    "#X_train, X_test, y_train, y_test = train_test_split(df[['gf', 'ga', 'poss', 'attendance', 'dist', 'fk', 'pkatt']], df['result'], test_size=0.2, random_state=42)\n",
    "# Chọn các mẫu trong tập huấn luyện có giá trị năm là 2020, 2021, 2022\n",
    "train = df[df['season'].isin([2020, 2021, 2022])]\n",
    "\n",
    "# Chọn các mẫu trong tập kiểm tra có giá trị năm là 2023\n",
    "test = df[df['season'] == 2023]\n",
    "\n",
    "# Tách các mẫu huấn luyện thành đầu vào X và nhãn y\n",
    "X_train = train.drop(['season','result'], axis=1)\n",
    "y_train = train['result']\n",
    "\n",
    "# Tách các mẫu kiểm tra thành đầu vào X và nhãn y\n",
    "X_test = test.drop(['season','result'], axis=1)\n",
    "y_test = test['result']\n",
    "\n",
    "# Sử dụng mô hình hồi quy logistic\n",
    "lr = LogisticRegression()\n",
    "lr.fit(X_train, y_train)\n",
    "\n",
    "y_pred = lr.predict(X_test)"
   ]
  },
  {
   "cell_type": "code",
   "execution_count": 54,
   "metadata": {},
   "outputs": [
    {
     "name": "stdout",
     "output_type": "stream",
     "text": [
      "Accuracy score:  0.5759637188208617\n",
      "Confusion matrix: \n",
      " [[  2  66  40]\n",
      " [  1 130  35]\n",
      " [  2  43 122]]\n",
      "Classification report: \n",
      "               precision    recall  f1-score   support\n",
      "\n",
      "           D       0.40      0.02      0.04       108\n",
      "           L       0.54      0.78      0.64       166\n",
      "           W       0.62      0.73      0.67       167\n",
      "\n",
      "    accuracy                           0.58       441\n",
      "   macro avg       0.52      0.51      0.45       441\n",
      "weighted avg       0.54      0.58      0.50       441\n",
      "\n"
     ]
    }
   ],
   "source": [
    "# Đánh giá mô hình\n",
    "acc = accuracy_score(y_test, y_pred)\n",
    "print('Accuracy score: ', acc)\n",
    "\n",
    "cm = confusion_matrix(y_test, y_pred)\n",
    "print('Confusion matrix: \\n', cm)\n",
    "\n",
    "cr = classification_report(y_test, y_pred)\n",
    "print('Classification report: \\n', cr)"
   ]
  }
 ],
 "metadata": {
  "kernelspec": {
   "display_name": "Python 3",
   "language": "python",
   "name": "python3"
  },
  "language_info": {
   "codemirror_mode": {
    "name": "ipython",
    "version": 3
   },
   "file_extension": ".py",
   "mimetype": "text/x-python",
   "name": "python",
   "nbconvert_exporter": "python",
   "pygments_lexer": "ipython3",
   "version": "3.11.0"
  },
  "orig_nbformat": 4
 },
 "nbformat": 4,
 "nbformat_minor": 2
}
